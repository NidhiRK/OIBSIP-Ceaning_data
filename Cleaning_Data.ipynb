{
 "cells": [
  {
   "cell_type": "markdown",
   "id": "2ddaf7d6-e63a-483b-8fec-cd44479b9d96",
   "metadata": {},
   "source": [
    "# Description:\n",
    "Data cleaning is the process of fixing or removing incorrect, corrupted, duplicate, or incomplete\n",
    "data within a dataset. Messy data leads to unreliable outcomes. Cleaning data is an essential\n",
    "part of data analysis, and demonstrating your data cleaning skills is key to landing a job. Here\n",
    "are some projects to test out your data cleaning skills: "
   ]
  },
  {
   "cell_type": "markdown",
   "id": "ceece863-9321-4e11-9bd5-6221824766f0",
   "metadata": {},
   "source": [
    "# Key Concepts and Challenges:\n",
    "\n",
    "Data Integrity: Ensuring the accuracy, consistency, and reliability of data throughout the\n",
    "cleaning process.                                                                                                                                       \n",
    "Missing Data Handling: Dealing with missing values by either imputing them or making informed decisions on how to handle gaps in the dataset.           \n",
    "Duplicate Removal: Identifying and eliminating duplicate records to maintain data uniqueness.                                                           \n",
    "Standardization: Consistent formatting and units across the dataset for accurate analysis.                                                              \n",
    "Outlier Detection: Identifying and addressing outliers that may skew analysis or model performance.\n"
   ]
  },
  {
   "cell_type": "markdown",
   "id": "444b550a-23c4-47ed-9d52-69e6b667b798",
   "metadata": {},
   "source": [
    "# About this file\n",
    "\n",
    "Suggest Edits\n",
    "\"AB_NYC_2019\" - Summary information and metrics for listings in New York City. It is good for exploration, visualizations and predictions."
   ]
  },
  {
   "cell_type": "markdown",
   "id": "9153a7ed-4159-4e33-b36f-95663e5ee583",
   "metadata": {},
   "source": [
    "# Import library"
   ]
  },
  {
   "cell_type": "code",
   "execution_count": 20,
   "id": "b649d4a8-cc18-4a82-8e16-74037e65281e",
   "metadata": {},
   "outputs": [],
   "source": [
    "import pandas as pd\n",
    "import numpy as np"
   ]
  },
  {
   "cell_type": "code",
   "execution_count": 21,
   "id": "5ea255e0-4d57-4624-8395-9e5da441e3d4",
   "metadata": {},
   "outputs": [],
   "source": [
    "# Load the dataset\n",
    "df = pd.read_csv('AB_NYC_2019.csv')"
   ]
  },
  {
   "cell_type": "code",
   "execution_count": 22,
   "id": "9daeb218-3a99-49e5-94fd-bfae31950d57",
   "metadata": {},
   "outputs": [
    {
     "name": "stdout",
     "output_type": "stream",
     "text": [
      "<class 'pandas.core.frame.DataFrame'>\n",
      "RangeIndex: 48895 entries, 0 to 48894\n",
      "Data columns (total 16 columns):\n",
      " #   Column                          Non-Null Count  Dtype  \n",
      "---  ------                          --------------  -----  \n",
      " 0   id                              48895 non-null  int64  \n",
      " 1   name                            48879 non-null  object \n",
      " 2   host_id                         48895 non-null  int64  \n",
      " 3   host_name                       48874 non-null  object \n",
      " 4   neighbourhood_group             48895 non-null  object \n",
      " 5   neighbourhood                   48895 non-null  object \n",
      " 6   latitude                        48895 non-null  float64\n",
      " 7   longitude                       48895 non-null  float64\n",
      " 8   room_type                       48895 non-null  object \n",
      " 9   price                           48895 non-null  int64  \n",
      " 10  minimum_nights                  48895 non-null  int64  \n",
      " 11  number_of_reviews               48895 non-null  int64  \n",
      " 12  last_review                     38843 non-null  object \n",
      " 13  reviews_per_month               38843 non-null  float64\n",
      " 14  calculated_host_listings_count  48895 non-null  int64  \n",
      " 15  availability_365                48895 non-null  int64  \n",
      "dtypes: float64(3), int64(7), object(6)\n",
      "memory usage: 6.0+ MB\n",
      "None\n",
      "     id                                              name  host_id  \\\n",
      "0  2539                Clean & quiet apt home by the park     2787   \n",
      "1  2595                             Skylit Midtown Castle     2845   \n",
      "2  3647               THE VILLAGE OF HARLEM....NEW YORK !     4632   \n",
      "3  3831                   Cozy Entire Floor of Brownstone     4869   \n",
      "4  5022  Entire Apt: Spacious Studio/Loft by central park     7192   \n",
      "\n",
      "     host_name neighbourhood_group neighbourhood  latitude  longitude  \\\n",
      "0         John            Brooklyn    Kensington  40.64749  -73.97237   \n",
      "1     Jennifer           Manhattan       Midtown  40.75362  -73.98377   \n",
      "2    Elisabeth           Manhattan        Harlem  40.80902  -73.94190   \n",
      "3  LisaRoxanne            Brooklyn  Clinton Hill  40.68514  -73.95976   \n",
      "4        Laura           Manhattan   East Harlem  40.79851  -73.94399   \n",
      "\n",
      "         room_type  price  minimum_nights  number_of_reviews last_review  \\\n",
      "0     Private room    149               1                  9  2018-10-19   \n",
      "1  Entire home/apt    225               1                 45  2019-05-21   \n",
      "2     Private room    150               3                  0         NaN   \n",
      "3  Entire home/apt     89               1                270  2019-07-05   \n",
      "4  Entire home/apt     80              10                  9  2018-11-19   \n",
      "\n",
      "   reviews_per_month  calculated_host_listings_count  availability_365  \n",
      "0               0.21                               6               365  \n",
      "1               0.38                               2               355  \n",
      "2                NaN                               1               365  \n",
      "3               4.64                               1               194  \n",
      "4               0.10                               1                 0  \n"
     ]
    }
   ],
   "source": [
    "# Display basic info and first few rows\n",
    "print(df.info())\n",
    "print(df.head())"
   ]
  },
  {
   "cell_type": "markdown",
   "id": "4d73afa4-eb96-4ad9-901c-380b0aa8f161",
   "metadata": {},
   "source": [
    "# 1. Handling Missing Data"
   ]
  },
  {
   "cell_type": "code",
   "execution_count": 23,
   "id": "5e1a5f7a-31af-4843-b13a-0794f97801b8",
   "metadata": {},
   "outputs": [
    {
     "name": "stdout",
     "output_type": "stream",
     "text": [
      "\n",
      "Missing values before handling:\n",
      "id                                    0\n",
      "name                                 16\n",
      "host_id                               0\n",
      "host_name                            21\n",
      "neighbourhood_group                   0\n",
      "neighbourhood                         0\n",
      "latitude                              0\n",
      "longitude                             0\n",
      "room_type                             0\n",
      "price                                 0\n",
      "minimum_nights                        0\n",
      "number_of_reviews                     0\n",
      "last_review                       10052\n",
      "reviews_per_month                 10052\n",
      "calculated_host_listings_count        0\n",
      "availability_365                      0\n",
      "dtype: int64\n"
     ]
    }
   ],
   "source": [
    "print(\"\\nMissing values before handling:\")\n",
    "print(df.isnull().sum())"
   ]
  },
  {
   "cell_type": "markdown",
   "id": "bc0d235c-3c4d-48f0-a284-a515c2511729",
   "metadata": {},
   "source": [
    "# Impute 'reviews_per_month' with median and fill other missing values accordingly"
   ]
  },
  {
   "cell_type": "code",
   "execution_count": 24,
   "id": "fccb44c6-d4d5-4489-b2c6-842b32acc58b",
   "metadata": {},
   "outputs": [
    {
     "name": "stderr",
     "output_type": "stream",
     "text": [
      "C:\\Users\\Admin\\AppData\\Local\\Temp\\ipykernel_9036\\4187586147.py:1: FutureWarning: A value is trying to be set on a copy of a DataFrame or Series through chained assignment using an inplace method.\n",
      "The behavior will change in pandas 3.0. This inplace method will never work because the intermediate object on which we are setting values always behaves as a copy.\n",
      "\n",
      "For example, when doing 'df[col].method(value, inplace=True)', try using 'df.method({col: value}, inplace=True)' or df[col] = df[col].method(value) instead, to perform the operation inplace on the original object.\n",
      "\n",
      "\n",
      "  df['reviews_per_month'].fillna(df['reviews_per_month'].median(), inplace=True)\n",
      "C:\\Users\\Admin\\AppData\\Local\\Temp\\ipykernel_9036\\4187586147.py:2: FutureWarning: DataFrame.fillna with 'method' is deprecated and will raise in a future version. Use obj.ffill() or obj.bfill() instead.\n",
      "  df.fillna(method='ffill', inplace=True)\n"
     ]
    }
   ],
   "source": [
    "df['reviews_per_month'].fillna(df['reviews_per_month'].median(), inplace=True)\n",
    "df.fillna(method='ffill', inplace=True)"
   ]
  },
  {
   "cell_type": "markdown",
   "id": "9dbf3ee8-28cc-42c2-a35e-8df19ca9300e",
   "metadata": {},
   "source": [
    "# 2. Removing Duplicates"
   ]
  },
  {
   "cell_type": "code",
   "execution_count": 25,
   "id": "0f5cb0da-ef6d-4e75-8d11-854dbf23247a",
   "metadata": {},
   "outputs": [],
   "source": [
    "df.drop_duplicates(inplace=True)"
   ]
  },
  {
   "cell_type": "markdown",
   "id": "cc391a4d-7b8f-4a06-87a5-5b57a95d2e00",
   "metadata": {},
   "source": [
    "# 3. Standardization\n",
    "# Convert column names to lowercase"
   ]
  },
  {
   "cell_type": "code",
   "execution_count": 26,
   "id": "09a27416-8c9a-496f-a1e3-d17cb81ce35b",
   "metadata": {},
   "outputs": [],
   "source": [
    "df.columns = df.columns.str.lower()"
   ]
  },
  {
   "cell_type": "markdown",
   "id": "f0297a41-9389-45c4-a5f5-bec85ba8641f",
   "metadata": {},
   "source": [
    "# Standardize price to 2 decimal places"
   ]
  },
  {
   "cell_type": "code",
   "execution_count": 27,
   "id": "1aee22d0-178f-4301-9059-4c97a899da7b",
   "metadata": {},
   "outputs": [],
   "source": [
    "df['price'] = df['price'].round(2)"
   ]
  },
  {
   "cell_type": "markdown",
   "id": "273a8773-a8c8-4403-a606-a65af4a0505e",
   "metadata": {},
   "source": [
    "# 4. Outlier Detection and Removal\n",
    "# Remove outliers based on price"
   ]
  },
  {
   "cell_type": "code",
   "execution_count": 28,
   "id": "a0424daa-8168-46f3-bc72-d0d1044efed1",
   "metadata": {},
   "outputs": [],
   "source": [
    "q1 = df['price'].quantile(0.25)\n",
    "q3 = df['price'].quantile(0.75)\n",
    "iqr = q3 - q1\n",
    "lower_bound = q1 - 1.5 * iqr\n",
    "upper_bound = q3 + 1.5 * iqr\n",
    "df = df[(df['price'] >= lower_bound) & (df['price'] <= upper_bound)]"
   ]
  },
  {
   "cell_type": "markdown",
   "id": "761e8a4e-2c3a-412f-8bc8-24ae67c707bd",
   "metadata": {},
   "source": [
    "# Save cleaned data to a new CSV"
   ]
  },
  {
   "cell_type": "code",
   "execution_count": 29,
   "id": "bf5c5e84-4157-485a-bc2e-67b677449110",
   "metadata": {},
   "outputs": [],
   "source": [
    "cleaned_file = 'AB_NYC_2019_cleaned.csv'\n",
    "df.to_csv(cleaned_file, index=False)"
   ]
  },
  {
   "cell_type": "code",
   "execution_count": 30,
   "id": "3acb1f1f-c49c-411e-be28-a2fd905f84be",
   "metadata": {},
   "outputs": [
    {
     "name": "stdout",
     "output_type": "stream",
     "text": [
      "\n",
      "Data cleaning complete. Cleaned data saved as AB_NYC_2019_cleaned.csv\n"
     ]
    }
   ],
   "source": [
    "print(\"\\nData cleaning complete. Cleaned data saved as AB_NYC_2019_cleaned.csv\")"
   ]
  }
 ],
 "metadata": {
  "kernelspec": {
   "display_name": "Python 3 (ipykernel)",
   "language": "python",
   "name": "python3"
  },
  "language_info": {
   "codemirror_mode": {
    "name": "ipython",
    "version": 3
   },
   "file_extension": ".py",
   "mimetype": "text/x-python",
   "name": "python",
   "nbconvert_exporter": "python",
   "pygments_lexer": "ipython3",
   "version": "3.13.1"
  }
 },
 "nbformat": 4,
 "nbformat_minor": 5
}
